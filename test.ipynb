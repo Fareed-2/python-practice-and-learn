{
  "nbformat": 4,
  "nbformat_minor": 0,
  "metadata": {
    "colab": {
      "provenance": [],
      "authorship_tag": "ABX9TyM4QaYQesFmgMSFe2lNbnrG",
      "include_colab_link": true
    },
    "kernelspec": {
      "name": "python3",
      "display_name": "Python 3"
    },
    "language_info": {
      "name": "python"
    }
  },
  "cells": [
    {
      "cell_type": "markdown",
      "metadata": {
        "id": "view-in-github",
        "colab_type": "text"
      },
      "source": [
        "<a href=\"https://colab.research.google.com/github/Fareed-2/python-practice-and-learn/blob/main/test.ipynb\" target=\"_parent\"><img src=\"https://colab.research.google.com/assets/colab-badge.svg\" alt=\"Open In Colab\"/></a>"
      ]
    },
    {
      "cell_type": "markdown",
      "source": [
        "# List Operations"
      ],
      "metadata": {
        "id": "FvK50qdUrXCW"
      }
    },
    {
      "cell_type": "code",
      "source": [],
      "metadata": {
        "id": "YqHpfniUraEw"
      },
      "execution_count": null,
      "outputs": []
    },
    {
      "cell_type": "markdown",
      "source": [
        "# Loop Operations"
      ],
      "metadata": {
        "id": "mbDZORv9rdSD"
      }
    },
    {
      "cell_type": "code",
      "source": [],
      "metadata": {
        "id": "Q74KvuFSriLk"
      },
      "execution_count": null,
      "outputs": []
    },
    {
      "cell_type": "markdown",
      "source": [
        "# Dictionary Operations"
      ],
      "metadata": {
        "id": "u_yz56t0rirC"
      }
    },
    {
      "cell_type": "code",
      "source": [],
      "metadata": {
        "id": "3tvw0UStrl4T"
      },
      "execution_count": null,
      "outputs": []
    },
    {
      "cell_type": "code",
      "source": [],
      "metadata": {
        "id": "6OG1ZA4ArmbQ"
      },
      "execution_count": null,
      "outputs": []
    },
    {
      "cell_type": "markdown",
      "source": [
        "# String Operations"
      ],
      "metadata": {
        "id": "F672fNbernjj"
      }
    },
    {
      "cell_type": "code",
      "source": [],
      "metadata": {
        "id": "ZwHve02erp1Y"
      },
      "execution_count": null,
      "outputs": []
    },
    {
      "cell_type": "markdown",
      "source": [
        "# Boolean Operations"
      ],
      "metadata": {
        "id": "5fBNyCwKrqQx"
      }
    },
    {
      "cell_type": "code",
      "source": [],
      "metadata": {
        "id": "SOrN9Cjkrs1v"
      },
      "execution_count": null,
      "outputs": []
    },
    {
      "cell_type": "markdown",
      "source": [
        "# Functions"
      ],
      "metadata": {
        "id": "SrN5ARPNrteM"
      }
    },
    {
      "cell_type": "code",
      "source": [],
      "metadata": {
        "id": "61ZXyb1frzsd"
      },
      "execution_count": null,
      "outputs": []
    }
  ]
}