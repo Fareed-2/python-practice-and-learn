{
  "nbformat": 4,
  "nbformat_minor": 0,
  "metadata": {
    "colab": {
      "provenance": [],
      "authorship_tag": "ABX9TyNhYvnHKbB5JonyCBH0kSCG",
      "include_colab_link": true
    },
    "kernelspec": {
      "name": "python3",
      "display_name": "Python 3"
    },
    "language_info": {
      "name": "python"
    }
  },
  "cells": [
    {
      "cell_type": "markdown",
      "metadata": {
        "id": "view-in-github",
        "colab_type": "text"
      },
      "source": [
        "<a href=\"https://colab.research.google.com/github/Fareed-2/python-practice-and-learn/blob/main/test.ipynb\" target=\"_parent\"><img src=\"https://colab.research.google.com/assets/colab-badge.svg\" alt=\"Open In Colab\"/></a>"
      ]
    },
    {
      "cell_type": "code",
      "execution_count": 14,
      "metadata": {
        "id": "CJ8F2naUedEa"
      },
      "outputs": [],
      "source": [
        "def nonConstructibleChange(coins):\n",
        "    coins.sort()\n",
        "    change = 0\n",
        "    if len(coins)==0:\n",
        "        return 1\n",
        "    else:\n",
        "        for i,value in enumerate(coins):\n",
        "          print(change,value)\n",
        "          if (change+1) < value:\n",
        "              return (change+1)\n",
        "          else:\n",
        "              change = change+value\n",
        "        return (change+1)\n"
      ]
    },
    {
      "cell_type": "code",
      "source": [
        "coins = [1,1,1,1]\n",
        "nonConstructibleChange(coins)"
      ],
      "metadata": {
        "id": "rpj6oTDx6JYp",
        "outputId": "730b272a-fae7-4cd3-b125-3f84386a24cf",
        "colab": {
          "base_uri": "https://localhost:8080/"
        }
      },
      "execution_count": 15,
      "outputs": [
        {
          "output_type": "stream",
          "name": "stdout",
          "text": [
            "0 1\n",
            "1 1\n",
            "2 1\n",
            "3 1\n"
          ]
        },
        {
          "output_type": "execute_result",
          "data": {
            "text/plain": [
              "5"
            ]
          },
          "metadata": {},
          "execution_count": 15
        }
      ]
    },
    {
      "cell_type": "code",
      "source": [
        "import copy\n",
        "a = [[1,2,3],[4,5,6]]\n",
        "b=copy.deepcopy(a)\n",
        "b[2][1] = 8\n",
        "print(a)\n",
        "print(b)"
      ],
      "metadata": {
        "id": "Hh6vfF5GD6bC",
        "outputId": "852ffb71-ef18-411a-edb5-e3e06e71db9b",
        "colab": {
          "base_uri": "https://localhost:8080/",
          "height": 207
        }
      },
      "execution_count": 33,
      "outputs": [
        {
          "output_type": "error",
          "ename": "IndexError",
          "evalue": "list index out of range",
          "traceback": [
            "\u001b[0;31m---------------------------------------------------------------------------\u001b[0m",
            "\u001b[0;31mIndexError\u001b[0m                                Traceback (most recent call last)",
            "\u001b[0;32m<ipython-input-33-49db9aa94795>\u001b[0m in \u001b[0;36m<cell line: 4>\u001b[0;34m()\u001b[0m\n\u001b[1;32m      2\u001b[0m \u001b[0ma\u001b[0m \u001b[0;34m=\u001b[0m \u001b[0;34m[\u001b[0m\u001b[0;34m[\u001b[0m\u001b[0;36m1\u001b[0m\u001b[0;34m,\u001b[0m\u001b[0;36m2\u001b[0m\u001b[0;34m,\u001b[0m\u001b[0;36m3\u001b[0m\u001b[0;34m]\u001b[0m\u001b[0;34m,\u001b[0m\u001b[0;34m[\u001b[0m\u001b[0;36m4\u001b[0m\u001b[0;34m,\u001b[0m\u001b[0;36m5\u001b[0m\u001b[0;34m,\u001b[0m\u001b[0;36m6\u001b[0m\u001b[0;34m]\u001b[0m\u001b[0;34m]\u001b[0m\u001b[0;34m\u001b[0m\u001b[0;34m\u001b[0m\u001b[0m\n\u001b[1;32m      3\u001b[0m \u001b[0mb\u001b[0m\u001b[0;34m=\u001b[0m\u001b[0mcopy\u001b[0m\u001b[0;34m.\u001b[0m\u001b[0mdeepcopy\u001b[0m\u001b[0;34m(\u001b[0m\u001b[0ma\u001b[0m\u001b[0;34m)\u001b[0m\u001b[0;34m\u001b[0m\u001b[0;34m\u001b[0m\u001b[0m\n\u001b[0;32m----> 4\u001b[0;31m \u001b[0mb\u001b[0m\u001b[0;34m[\u001b[0m\u001b[0;36m2\u001b[0m\u001b[0;34m]\u001b[0m\u001b[0;34m[\u001b[0m\u001b[0;36m1\u001b[0m\u001b[0;34m]\u001b[0m \u001b[0;34m=\u001b[0m \u001b[0;36m8\u001b[0m\u001b[0;34m\u001b[0m\u001b[0;34m\u001b[0m\u001b[0m\n\u001b[0m\u001b[1;32m      5\u001b[0m \u001b[0mprint\u001b[0m\u001b[0;34m(\u001b[0m\u001b[0ma\u001b[0m\u001b[0;34m)\u001b[0m\u001b[0;34m\u001b[0m\u001b[0;34m\u001b[0m\u001b[0m\n\u001b[1;32m      6\u001b[0m \u001b[0mprint\u001b[0m\u001b[0;34m(\u001b[0m\u001b[0mb\u001b[0m\u001b[0;34m)\u001b[0m\u001b[0;34m\u001b[0m\u001b[0;34m\u001b[0m\u001b[0m\n",
            "\u001b[0;31mIndexError\u001b[0m: list index out of range"
          ]
        }
      ]
    },
    {
      "cell_type": "code",
      "source": [
        "def matrixSize (matrix):\n",
        "  rows = len(matrix)\n",
        "  columns = len(matrix[0])\n",
        "  return (rows,columns)"
      ],
      "metadata": {
        "id": "zc3ya6gtlBPX"
      },
      "execution_count": 36,
      "outputs": []
    },
    {
      "cell_type": "code",
      "source": [
        "import copy\n",
        "import numpy as np\n",
        "def transposeMatrix(matrix):\n",
        "    transpose = [[0 for _ in range(len(matrix))] for _ in range(len(matrix[0]))]\n",
        "    for i,row in enumerate(matrix):\n",
        "        print(f\"i={i}\")\n",
        "        for j, value in enumerate(row):\n",
        "            print(f\"j={j}\")\n",
        "            transpose[j][i] = value\n",
        "    return transpose\n"
      ],
      "metadata": {
        "id": "W74CAXhYD9M4"
      },
      "execution_count": 46,
      "outputs": []
    },
    {
      "cell_type": "code",
      "source": [
        "matrix = [[1],[-1]]\n",
        "transposeMatrix(matrix)"
      ],
      "metadata": {
        "id": "JQhz7Rlda6rC",
        "outputId": "5cda9a07-a92f-4e9a-f331-1aa4bf953497",
        "colab": {
          "base_uri": "https://localhost:8080/"
        }
      },
      "execution_count": 47,
      "outputs": [
        {
          "output_type": "stream",
          "name": "stdout",
          "text": [
            "i=0\n",
            "j=0\n",
            "i=1\n",
            "j=0\n"
          ]
        },
        {
          "output_type": "execute_result",
          "data": {
            "text/plain": [
              "[[1, -1]]"
            ]
          },
          "metadata": {},
          "execution_count": 47
        }
      ]
    },
    {
      "cell_type": "code",
      "source": [
        "matrix = [[1,2,3],[4,5,6]]\n",
        "r,c = matrixSize(matrix)\n"
      ],
      "metadata": {
        "id": "Fv8ot3mfa_Jh",
        "outputId": "993df65c-8ee9-45f6-e612-3abdef089465",
        "colab": {
          "base_uri": "https://localhost:8080/"
        }
      },
      "execution_count": 37,
      "outputs": [
        {
          "output_type": "execute_result",
          "data": {
            "text/plain": [
              "(2, 3)"
            ]
          },
          "metadata": {},
          "execution_count": 37
        }
      ]
    },
    {
      "cell_type": "code",
      "source": [],
      "metadata": {
        "id": "H7MbAEaok6u3"
      },
      "execution_count": null,
      "outputs": []
    }
  ]
}